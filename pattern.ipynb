{
 "cells": [
  {
   "cell_type": "code",
   "execution_count": 6,
   "id": "647828aa",
   "metadata": {},
   "outputs": [
    {
     "name": "stdout",
     "output_type": "stream",
     "text": [
      "Lower Triangular Pattern:\n",
      "\n",
      "* \n",
      "* * \n",
      "* * * \n",
      "* * * * \n",
      "* * * * * \n",
      "\n",
      "Upper Triangular Pattern \n",
      "\n",
      "* * * * * \n",
      "  * * * * \n",
      "    * * * \n",
      "      * * \n",
      "        * \n",
      "\n",
      "Pyramid Pattern: \n",
      "\n",
      "    * \n",
      "   * * \n",
      "  * * * \n",
      " * * * * \n",
      "* * * * * \n"
     ]
    }
   ],
   "source": [
    "\n",
    "# Lower Triangular Pattern:\n",
    "print(\"Lower Triangular Pattern:\\n\")\n",
    "def lower_triangular(rows):\n",
    "    for i in range(1, rows + 1):\n",
    "        print(\"* \" * i)\n",
    "\n",
    "# Example usage\n",
    "lower_triangular(5)\n",
    "\n",
    "# Upper Triangular Pattern:\n",
    "print(\"\\nUpper Triangular Pattern \\n\")\n",
    "def upper_triangular(rows):\n",
    "    for i in range(rows, 0, -1):\n",
    "        print(\"  \" * (rows - i) + \"* \" * i)\n",
    "\n",
    "# Example usage\n",
    "upper_triangular(5)\n",
    "\n",
    "# Pyramid Pattern:\n",
    "print(\"\\nPyramid Pattern: \\n\")\n",
    "def pyramid(rows):\n",
    "    for i in range(1, rows + 1):\n",
    "        print(\" \" * (rows - i) + \"* \" * i)\n",
    "\n",
    "# Example usage\n",
    "pyramid(5)"
   ]
  },
  {
   "cell_type": "code",
   "execution_count": null,
   "id": "81085d9d",
   "metadata": {},
   "outputs": [],
   "source": []
  }
 ],
 "metadata": {
  "kernelspec": {
   "display_name": "Python 3 (ipykernel)",
   "language": "python",
   "name": "python3"
  },
  "language_info": {
   "codemirror_mode": {
    "name": "ipython",
    "version": 3
   },
   "file_extension": ".py",
   "mimetype": "text/x-python",
   "name": "python",
   "nbconvert_exporter": "python",
   "pygments_lexer": "ipython3",
   "version": "3.11.5"
  }
 },
 "nbformat": 4,
 "nbformat_minor": 5
}
